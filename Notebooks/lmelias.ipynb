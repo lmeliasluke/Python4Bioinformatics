{
 "cells": [
  {
   "cell_type": "code",
   "execution_count": null,
   "metadata": {},
   "outputs": [],
   "source": [
    "def fibonacci_generator():\n",
    "    x = int(input('How many fibonacci numbers can i generate for you: '))\n",
    "    a = b = 0\n",
    "    c = 1\n",
    "    while b < x:\n",
    "        print(a)\n",
    "        b = b + 1\n",
    "        nextnum = a+c \n",
    "        a = c\n",
    "        c = nextnum"
   ]
  },
  {
   "cell_type": "code",
   "execution_count": 2,
   "metadata": {},
   "outputs": [
    {
     "ename": "KeyboardInterrupt",
     "evalue": "Interrupted by user",
     "output_type": "error",
     "traceback": [
      "\u001b[0;31m---------------------------------------------------------------------------\u001b[0m",
      "\u001b[0;31mKeyboardInterrupt\u001b[0m                         Traceback (most recent call last)",
      "\u001b[0;32m<ipython-input-2-e8168e4a1148>\u001b[0m in \u001b[0;36m<module>\u001b[0;34m\u001b[0m\n\u001b[0;32m----> 1\u001b[0;31m \u001b[0mfibonacci_generator\u001b[0m\u001b[0;34m(\u001b[0m\u001b[0;34m)\u001b[0m\u001b[0;34m\u001b[0m\u001b[0;34m\u001b[0m\u001b[0m\n\u001b[0m",
      "\u001b[0;32m<ipython-input-1-a40ddef54e95>\u001b[0m in \u001b[0;36mfibonacci_generator\u001b[0;34m()\u001b[0m\n\u001b[1;32m      1\u001b[0m \u001b[0;32mdef\u001b[0m \u001b[0mfibonacci_generator\u001b[0m\u001b[0;34m(\u001b[0m\u001b[0;34m)\u001b[0m\u001b[0;34m:\u001b[0m\u001b[0;34m\u001b[0m\u001b[0;34m\u001b[0m\u001b[0m\n\u001b[0;32m----> 2\u001b[0;31m     \u001b[0mx\u001b[0m \u001b[0;34m=\u001b[0m \u001b[0mint\u001b[0m\u001b[0;34m(\u001b[0m\u001b[0minput\u001b[0m\u001b[0;34m(\u001b[0m\u001b[0;34m'How many fibonacci numbers can i generate for you: '\u001b[0m\u001b[0;34m)\u001b[0m\u001b[0;34m)\u001b[0m\u001b[0;34m\u001b[0m\u001b[0;34m\u001b[0m\u001b[0m\n\u001b[0m\u001b[1;32m      3\u001b[0m     \u001b[0ma\u001b[0m \u001b[0;34m=\u001b[0m \u001b[0mb\u001b[0m \u001b[0;34m=\u001b[0m \u001b[0;36m0\u001b[0m\u001b[0;34m\u001b[0m\u001b[0;34m\u001b[0m\u001b[0m\n\u001b[1;32m      4\u001b[0m     \u001b[0mc\u001b[0m \u001b[0;34m=\u001b[0m \u001b[0;36m1\u001b[0m\u001b[0;34m\u001b[0m\u001b[0;34m\u001b[0m\u001b[0m\n\u001b[1;32m      5\u001b[0m     \u001b[0;32mwhile\u001b[0m \u001b[0mb\u001b[0m \u001b[0;34m<\u001b[0m \u001b[0mx\u001b[0m\u001b[0;34m:\u001b[0m\u001b[0;34m\u001b[0m\u001b[0;34m\u001b[0m\u001b[0m\n",
      "\u001b[0;32m~/miniconda3/envs/bioinf/lib/python3.8/site-packages/ipykernel/kernelbase.py\u001b[0m in \u001b[0;36mraw_input\u001b[0;34m(self, prompt)\u001b[0m\n\u001b[1;32m    858\u001b[0m                 \u001b[0;34m\"raw_input was called, but this frontend does not support input requests.\"\u001b[0m\u001b[0;34m\u001b[0m\u001b[0;34m\u001b[0m\u001b[0m\n\u001b[1;32m    859\u001b[0m             )\n\u001b[0;32m--> 860\u001b[0;31m         return self._input_request(str(prompt),\n\u001b[0m\u001b[1;32m    861\u001b[0m             \u001b[0mself\u001b[0m\u001b[0;34m.\u001b[0m\u001b[0m_parent_ident\u001b[0m\u001b[0;34m,\u001b[0m\u001b[0;34m\u001b[0m\u001b[0;34m\u001b[0m\u001b[0m\n\u001b[1;32m    862\u001b[0m             \u001b[0mself\u001b[0m\u001b[0;34m.\u001b[0m\u001b[0m_parent_header\u001b[0m\u001b[0;34m,\u001b[0m\u001b[0;34m\u001b[0m\u001b[0;34m\u001b[0m\u001b[0m\n",
      "\u001b[0;32m~/miniconda3/envs/bioinf/lib/python3.8/site-packages/ipykernel/kernelbase.py\u001b[0m in \u001b[0;36m_input_request\u001b[0;34m(self, prompt, ident, parent, password)\u001b[0m\n\u001b[1;32m    902\u001b[0m             \u001b[0;32mexcept\u001b[0m \u001b[0mKeyboardInterrupt\u001b[0m\u001b[0;34m:\u001b[0m\u001b[0;34m\u001b[0m\u001b[0;34m\u001b[0m\u001b[0m\n\u001b[1;32m    903\u001b[0m                 \u001b[0;31m# re-raise KeyboardInterrupt, to truncate traceback\u001b[0m\u001b[0;34m\u001b[0m\u001b[0;34m\u001b[0m\u001b[0;34m\u001b[0m\u001b[0m\n\u001b[0;32m--> 904\u001b[0;31m                 \u001b[0;32mraise\u001b[0m \u001b[0mKeyboardInterrupt\u001b[0m\u001b[0;34m(\u001b[0m\u001b[0;34m\"Interrupted by user\"\u001b[0m\u001b[0;34m)\u001b[0m \u001b[0;32mfrom\u001b[0m \u001b[0;32mNone\u001b[0m\u001b[0;34m\u001b[0m\u001b[0;34m\u001b[0m\u001b[0m\n\u001b[0m\u001b[1;32m    905\u001b[0m             \u001b[0;32mexcept\u001b[0m \u001b[0mException\u001b[0m \u001b[0;32mas\u001b[0m \u001b[0me\u001b[0m\u001b[0;34m:\u001b[0m\u001b[0;34m\u001b[0m\u001b[0;34m\u001b[0m\u001b[0m\n\u001b[1;32m    906\u001b[0m                 \u001b[0mself\u001b[0m\u001b[0;34m.\u001b[0m\u001b[0mlog\u001b[0m\u001b[0;34m.\u001b[0m\u001b[0mwarning\u001b[0m\u001b[0;34m(\u001b[0m\u001b[0;34m\"Invalid Message:\"\u001b[0m\u001b[0;34m,\u001b[0m \u001b[0mexc_info\u001b[0m\u001b[0;34m=\u001b[0m\u001b[0;32mTrue\u001b[0m\u001b[0;34m)\u001b[0m\u001b[0;34m\u001b[0m\u001b[0;34m\u001b[0m\u001b[0m\n",
      "\u001b[0;31mKeyboardInterrupt\u001b[0m: Interrupted by user"
     ]
    }
   ],
   "source": [
    "fibonacci_generator()"
   ]
  },
  {
   "cell_type": "code",
   "execution_count": null,
   "metadata": {},
   "outputs": [],
   "source": [
    "import urllib"
   ]
  },
  {
   "cell_type": "code",
   "execution_count": null,
   "metadata": {},
   "outputs": [],
   "source": [
    "import os"
   ]
  },
  {
   "cell_type": "code",
   "execution_count": null,
   "metadata": {},
   "outputs": [],
   "source": [
    "pwd"
   ]
  },
  {
   "cell_type": "code",
   "execution_count": null,
   "metadata": {},
   "outputs": [],
   "source": [
    "os.chdir('../')"
   ]
  },
  {
   "cell_type": "code",
   "execution_count": null,
   "metadata": {},
   "outputs": [],
   "source": [
    "pwd"
   ]
  },
  {
   "cell_type": "code",
   "execution_count": null,
   "metadata": {},
   "outputs": [],
   "source": [
    "def word_generator():\n",
    "    \n",
    "    # import modules\n",
    "    \n",
    "    import urllib\n",
    "    import requests\n",
    "    import random\n",
    "    \n",
    "    #Download words from web\n",
    "    url = 'http://norvig.com/ngrams/sowpods.txt'\n",
    "    web_words = requests.get(url)\n",
    "    \n",
    "    #save the words to a file\n",
    "    with open('./norvig_words', 'wb') as myfile:\n",
    "        myfile.write(web_words.content)\n",
    "        myfile.close()\n",
    "        \n",
    "        #generate random words from our saved file\n",
    "        with open('norvig_words', 'r') as myfile2:\n",
    "            my_words = myfile2.read().splitlines()\n",
    "            \n",
    "            return random.choice(my_words)\n",
    "            \n",
    "        \n",
    "        \n",
    "        \n",
    "    "
   ]
  },
  {
   "cell_type": "code",
   "execution_count": null,
   "metadata": {},
   "outputs": [],
   "source": [
    "word_generator()"
   ]
  },
  {
   "cell_type": "code",
   "execution_count": null,
   "metadata": {},
   "outputs": [],
   "source": [
    "def word_reverser():\n",
    "    text = input('Please enter a sentence: ')\n",
    "    text_list = list(text.split())\n",
    "    reverse_list = reversed(text_list)\n",
    "    return ' ' .join(reverse_list)"
   ]
  },
  {
   "cell_type": "code",
   "execution_count": null,
   "metadata": {},
   "outputs": [],
   "source": [
    "word_reverser()"
   ]
  },
  {
   "cell_type": "code",
   "execution_count": null,
   "metadata": {},
   "outputs": [],
   "source": [
    "def guess_game():\n",
    "    \n",
    "    #returns a random interger between 1 and 9\n",
    "    import random\n",
    "    guess = str(input('Guess any number between 1 and 9, type exit to quit: '))\n",
    "    tries = 0\n",
    "    if guess.lower() == 'exit':\n",
    "            print('you have guessed %d times' %(tries))\n",
    "    while guess.lower() != 'exit':\n",
    "        tries += 1\n",
    "        \n",
    "        output = str(random.randint(1,9))\n",
    "        \n",
    "        if guess == output:\n",
    "            print('exactly right')\n",
    "        if guess < output:\n",
    "            print('You guessed too low')\n",
    "        if guess > output:\n",
    "            print('You guessed too high')\n",
    "            #print('the number is: %' %(output))\n",
    "           \n",
    "        guess = str(input('Guess any number between 1 and 9, type exit to quit: '))\n",
    "        if guess.lower() == 'exit':\n",
    "            print('you have guessed %d times' %(tries))\n",
    "    "
   ]
  },
  {
   "cell_type": "code",
   "execution_count": null,
   "metadata": {},
   "outputs": [],
   "source": [
    "guess_game()\n"
   ]
  },
  {
   "cell_type": "code",
   "execution_count": null,
   "metadata": {},
   "outputs": [],
   "source": [
    "def common_element(list1, list2):\n",
    "    # Return common elements between two lists\n",
    "    common_elements = list(set(list1) & set(list2))\n",
    "    return common_elements"
   ]
  },
  {
   "cell_type": "code",
   "execution_count": null,
   "metadata": {},
   "outputs": [],
   "source": [
    "a = [1, 1,4,3,5,7,8,8,89,0,]\n",
    "b = [12, 4,5,6,8,9,0,4,6,3,5]\n",
    "common_element(a, b)"
   ]
  },
  {
   "cell_type": "code",
   "execution_count": null,
   "metadata": {},
   "outputs": [],
   "source": [
    "\n",
    "def prime_numbers():\n",
    "    'Generates prime numbers between 0 and user input'\n",
    "    user_input = int(input('Please enter any interger: '))\n",
    "    prime_list = []    \n",
    "    for i in range(2, user_input):\n",
    "        prime_numbers = True\n",
    "        for j in range(2, i):\n",
    "            if i %j == 0:\n",
    "                prime_numbers = False\n",
    "                break\n",
    "        if prime_numbers:\n",
    "                    prime_list.append(i)\n",
    "    print(prime_list)\n",
    "        \n",
    "    "
   ]
  },
  {
   "cell_type": "code",
   "execution_count": null,
   "metadata": {},
   "outputs": [],
   "source": [
    "prime_numbers()"
   ]
  },
  {
   "cell_type": "code",
   "execution_count": null,
   "metadata": {},
   "outputs": [],
   "source": [
    "def is_prime():\n",
    "    'Checks whether a given number is a prime number'\n",
    "    number = int(input('Enter any interger <= 2: '))\n",
    "    #prime_list = []    \n",
    "    for i in range(2, number//2):\n",
    "        if number %i == 0:\n",
    "            print('%d is not a prime number' %(number))\n",
    "            break\n",
    "    else:\n",
    "        print('%d is a prime number' %(number))\n",
    "\n"
   ]
  },
  {
   "cell_type": "code",
   "execution_count": null,
   "metadata": {},
   "outputs": [],
   "source": [
    "is_prime()"
   ]
  },
  {
   "cell_type": "code",
   "execution_count": null,
   "metadata": {},
   "outputs": [],
   "source": [
    "def password():\n",
    "    'Generates a random password'\n",
    "    import random\n",
    "    import string\n",
    "    choice = str(input('type weak for weak password or strong for a strong password: '))\n",
    "    \n",
    "    #test whether the choice is valid\n",
    "    choices = ('weak', 'strong')\n",
    "    while choice.lower() not in choices:\n",
    "        print('You have entered invalid choice')\n",
    "        choice = input('type weak for weak password or strong for a strong password: ')\n",
    "    \n",
    "    #generate weak password if choice is weak\n",
    "    if choice.lower() == 'weak':\n",
    "        length = int(input('how long should your password be?:'))\n",
    "        words = string.ascii_letters\n",
    "        password = ''.join(random.choice(words) for i in range(length))\n",
    "        print('here is your password: ', password)\n",
    "    #generate strong password if choice is weak\n",
    "    if choice.lower() == 'strong':\n",
    "        length = int(input('how long should your password be?:'))\n",
    "        words_digits = string.ascii_letters + string.digits\n",
    "        password = ''.join((random.choice(words_digits)for i in range(length)))\n",
    "        print('here is your password: ', password)\n",
    "        #break\n",
    "    \n",
    "    \n",
    "    \n",
    "\n",
    "        "
   ]
  },
  {
   "cell_type": "code",
   "execution_count": null,
   "metadata": {},
   "outputs": [],
   "source": [
    "\n"
   ]
  },
  {
   "cell_type": "code",
   "execution_count": null,
   "metadata": {},
   "outputs": [],
   "source": [
    "\n",
    "\n",
    "\n"
   ]
  },
  {
   "cell_type": "code",
   "execution_count": null,
   "metadata": {},
   "outputs": [],
   "source": [
    "def non_duplicates(a):\n",
    "    'Returns a set in a given list'\n",
    "    #using set\n",
    "    \n",
    "    return list(set(a))\n",
    "    \n",
    "    #using for loop\n",
    "    \n",
    "    #non_duplicates = []\n",
    "    #for i in a:\n",
    "        #non_duplicates.append(i)\n",
    "    #return list(set(non_duplicates))\n"
   ]
  },
  {
   "cell_type": "code",
   "execution_count": null,
   "metadata": {},
   "outputs": [],
   "source": [
    "a= [122, 342, 2, 2, 23, 23]\n",
    "non_duplicates(a)"
   ]
  },
  {
   "cell_type": "code",
   "execution_count": 5,
   "metadata": {},
   "outputs": [],
   "source": [
    "def hundredth_anniversary():\n",
    "    \n",
    "    'Calculates the hundredth anniversary of a user given users age'\n",
    "    \n",
    "    import datetime\n",
    "    #obtain user details\n",
    "    name = str(input('Please enter your name: '))\n",
    "    \n",
    "    age= int(input('please enter your age: '))\n",
    "    \n",
    "    #import current year\n",
    "    now = datetime.datetime.now()\n",
    "    \n",
    "    current_year = int(now.year)\n",
    "    \n",
    "    #calculate user's hundredth anniversary\n",
    "    \n",
    "    hundred = int((current_year +100) - age)\n",
    "    \n",
    "    if hundred < age:\n",
    "        print(name,', you turned a hundred years old in: ',hundred)\n",
    "        \n",
    "    \n",
    "    if age == hundred:\n",
    "        print(name,', you turned a hundred years old in THIS YEAR!')\n",
    "        \n",
    "   \n",
    "    else:\n",
    "        print(name,', you will turn a hundred years old in: ',hundred)\n",
    "    #print(now)\n",
    "    #print(current_year)\n",
    "    \n",
    "    \n"
   ]
  },
  {
   "cell_type": "code",
   "execution_count": 7,
   "metadata": {},
   "outputs": [
    {
     "name": "stdin",
     "output_type": "stream",
     "text": [
      "Please enter your name:  luke\n",
      "please enter your age:  100\n"
     ]
    },
    {
     "name": "stdout",
     "output_type": "stream",
     "text": [
      "luke , you will turn a hundred years old in:  2020\n"
     ]
    }
   ],
   "source": [
    "hundredth_anniversary()"
   ]
  },
  {
   "cell_type": "code",
   "execution_count": null,
   "metadata": {},
   "outputs": [],
   "source": []
  }
 ],
 "metadata": {
  "kernelspec": {
   "display_name": "Python 3",
   "language": "python",
   "name": "python3"
  },
  "language_info": {
   "codemirror_mode": {
    "name": "ipython",
    "version": 3
   },
   "file_extension": ".py",
   "mimetype": "text/x-python",
   "name": "python",
   "nbconvert_exporter": "python",
   "pygments_lexer": "ipython3",
   "version": "3.8.5"
  }
 },
 "nbformat": 4,
 "nbformat_minor": 4
}
