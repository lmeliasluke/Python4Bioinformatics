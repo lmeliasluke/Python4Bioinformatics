{
 "cells": [
  {
   "cell_type": "code",
   "execution_count": 1,
   "metadata": {},
   "outputs": [],
   "source": [
    "def fibonacci_generator():\n",
    "    x = int(input('How many fibonacci numbers can i generate for you: '))\n",
    "    a = b = 0\n",
    "    c = 1\n",
    "    while b < x:\n",
    "        print(a)\n",
    "        b = b + 1\n",
    "        nextnum = a+c \n",
    "        a = c\n",
    "        c = nextnum"
   ]
  },
  {
   "cell_type": "code",
   "execution_count": 2,
   "metadata": {},
   "outputs": [
    {
     "name": "stdin",
     "output_type": "stream",
     "text": [
      "How many fibonacci numbers can i generate for you:  12\n"
     ]
    },
    {
     "name": "stdout",
     "output_type": "stream",
     "text": [
      "0\n",
      "1\n",
      "1\n",
      "2\n",
      "3\n",
      "5\n",
      "8\n",
      "13\n",
      "21\n",
      "34\n",
      "55\n",
      "89\n"
     ]
    }
   ],
   "source": [
    "fibonacci_generator()"
   ]
  },
  {
   "cell_type": "code",
   "execution_count": 4,
   "metadata": {},
   "outputs": [],
   "source": [
    "import urllib"
   ]
  },
  {
   "cell_type": "code",
   "execution_count": 27,
   "metadata": {},
   "outputs": [],
   "source": [
    "import os"
   ]
  },
  {
   "cell_type": "code",
   "execution_count": 28,
   "metadata": {},
   "outputs": [
    {
     "data": {
      "text/plain": [
       "'/home/icipe/Desktop/Python4Bioinformatics/Notebooks'"
      ]
     },
     "execution_count": 28,
     "metadata": {},
     "output_type": "execute_result"
    }
   ],
   "source": [
    "pwd"
   ]
  },
  {
   "cell_type": "code",
   "execution_count": 29,
   "metadata": {},
   "outputs": [],
   "source": [
    "os.chdir('../')"
   ]
  },
  {
   "cell_type": "code",
   "execution_count": 30,
   "metadata": {},
   "outputs": [
    {
     "data": {
      "text/plain": [
       "'/home/icipe/Desktop/Python4Bioinformatics'"
      ]
     },
     "execution_count": 30,
     "metadata": {},
     "output_type": "execute_result"
    }
   ],
   "source": [
    "pwd"
   ]
  },
  {
   "cell_type": "code",
   "execution_count": 212,
   "metadata": {},
   "outputs": [],
   "source": [
    "def word_generator():\n",
    "    \n",
    "    # import modules\n",
    "    \n",
    "    import urllib\n",
    "    import requests\n",
    "    import random\n",
    "    \n",
    "    #Download words from web\n",
    "    url = 'http://norvig.com/ngrams/sowpods.txt'\n",
    "    web_words = requests.get(url)\n",
    "    \n",
    "    #save the words to a file\n",
    "    with open('./norvig_words', 'wb') as myfile:\n",
    "        myfile.write(web_words.content)\n",
    "        myfile.close()\n",
    "        \n",
    "        #generate random words from our saved file\n",
    "        with open('norvig_words', 'r') as myfile2:\n",
    "            my_words = myfile2.read().splitlines()\n",
    "            \n",
    "            return random.choice(my_words)\n",
    "            \n",
    "        \n",
    "        \n",
    "        \n",
    "    "
   ]
  },
  {
   "cell_type": "code",
   "execution_count": 211,
   "metadata": {},
   "outputs": [
    {
     "data": {
      "text/plain": [
       "'MISENTRY'"
      ]
     },
     "execution_count": 211,
     "metadata": {},
     "output_type": "execute_result"
    }
   ],
   "source": [
    "word_generator()"
   ]
  },
  {
   "cell_type": "code",
   "execution_count": 231,
   "metadata": {},
   "outputs": [],
   "source": [
    "def word_reverser():\n",
    "    text = input('Please enter a sentence: ')\n",
    "    text_list = list(text.split())\n",
    "    reverse_list = reversed(text_list)\n",
    "    return ' ' .join(reverse_list)"
   ]
  },
  {
   "cell_type": "code",
   "execution_count": 233,
   "metadata": {},
   "outputs": [
    {
     "name": "stdin",
     "output_type": "stream",
     "text": [
      "Please enter a sentence:  you are looking at my code\n"
     ]
    },
    {
     "data": {
      "text/plain": [
       "'code my at looking are you'"
      ]
     },
     "execution_count": 233,
     "metadata": {},
     "output_type": "execute_result"
    }
   ],
   "source": [
    "word_reverser()"
   ]
  },
  {
   "cell_type": "code",
   "execution_count": 28,
   "metadata": {},
   "outputs": [],
   "source": [
    "def guess_game():\n",
    "    \n",
    "    #returns a random interger between 1 and 9\n",
    "    import random\n",
    "    guess = str(input('Guess any number between 1 and 9, type exit to quit: '))\n",
    "    tries = 0\n",
    "    if guess.lower() == 'exit':\n",
    "            print('you have guessed %d times' %(tries))\n",
    "    while guess.lower() != 'exit':\n",
    "        tries += 1\n",
    "        \n",
    "        output = str(random.randint(1,9))\n",
    "        \n",
    "        if guess == output:\n",
    "            print('exactly right')\n",
    "        if guess < output:\n",
    "            print('You guessed too low')\n",
    "        if guess > output:\n",
    "            print('You guessed too high')\n",
    "            #print('the number is: %' %(output))\n",
    "           \n",
    "        guess = str(input('Guess any number between 1 and 9, type exit to quit: '))\n",
    "        if guess.lower() == 'exit':\n",
    "            print('you have guessed %d times' %(tries))\n",
    "    "
   ]
  },
  {
   "cell_type": "code",
   "execution_count": 75,
   "metadata": {},
   "outputs": [
    {
     "name": "stdin",
     "output_type": "stream",
     "text": [
      "Guess any number between 1 and 9, type exit to quit:  exit\n"
     ]
    },
    {
     "name": "stdout",
     "output_type": "stream",
     "text": [
      "you have guessed 0 times\n"
     ]
    }
   ],
   "source": [
    "guess_game()\n"
   ]
  },
  {
   "cell_type": "code",
   "execution_count": 12,
   "metadata": {},
   "outputs": [],
   "source": [
    "def common_element(list1, list2):\n",
    "    # Return common elements between two lists\n",
    "    common_elements = list(set(list1) & set(list2))\n",
    "    return common_elements"
   ]
  },
  {
   "cell_type": "code",
   "execution_count": 13,
   "metadata": {},
   "outputs": [
    {
     "data": {
      "text/plain": [
       "[0, 3, 4, 5, 8]"
      ]
     },
     "execution_count": 13,
     "metadata": {},
     "output_type": "execute_result"
    }
   ],
   "source": [
    "a = [1, 1,4,3,5,7,8,8,89,0,]\n",
    "b = [12, 4,5,6,8,9,0,4,6,3,5]\n",
    "common_element(a, b)"
   ]
  },
  {
   "cell_type": "code",
   "execution_count": 87,
   "metadata": {},
   "outputs": [],
   "source": [
    "def prime_numbers():\n",
    "    'Generates prime numbers between 0 and a given interger'\n",
    "    user_input = int(input('Please enter any interger: '))\n",
    "    prime_list= []\n",
    "    for x in range(0, user_input):\n",
    "        prime_number = True\n",
    "        for i in range(0, x):\n",
    "            if x %i == 0:\n",
    "                prime_number = False\n",
    "                \n",
    "        if prime_number:\n",
    "            prime_list.append(x)\n",
    "                \n",
    "        \n",
    "    "
   ]
  },
  {
   "cell_type": "code",
   "execution_count": 88,
   "metadata": {},
   "outputs": [
    {
     "name": "stdin",
     "output_type": "stream",
     "text": [
      "Please enter any interger:  8\n"
     ]
    },
    {
     "ename": "ZeroDivisionError",
     "evalue": "integer division or modulo by zero",
     "output_type": "error",
     "traceback": [
      "\u001b[0;31m---------------------------------------------------------------------------\u001b[0m",
      "\u001b[0;31mZeroDivisionError\u001b[0m                         Traceback (most recent call last)",
      "\u001b[0;32m<ipython-input-88-c046c8d75283>\u001b[0m in \u001b[0;36m<module>\u001b[0;34m\u001b[0m\n\u001b[0;32m----> 1\u001b[0;31m \u001b[0mprime_numbers\u001b[0m\u001b[0;34m(\u001b[0m\u001b[0;34m)\u001b[0m\u001b[0;34m\u001b[0m\u001b[0;34m\u001b[0m\u001b[0m\n\u001b[0m",
      "\u001b[0;32m<ipython-input-87-add6604f6f7f>\u001b[0m in \u001b[0;36mprime_numbers\u001b[0;34m()\u001b[0m\n\u001b[1;32m      6\u001b[0m         \u001b[0mprime_number\u001b[0m \u001b[0;34m=\u001b[0m \u001b[0;32mTrue\u001b[0m\u001b[0;34m\u001b[0m\u001b[0;34m\u001b[0m\u001b[0m\n\u001b[1;32m      7\u001b[0m         \u001b[0;32mfor\u001b[0m \u001b[0mi\u001b[0m \u001b[0;32min\u001b[0m \u001b[0mrange\u001b[0m\u001b[0;34m(\u001b[0m\u001b[0;36m0\u001b[0m\u001b[0;34m,\u001b[0m \u001b[0mx\u001b[0m\u001b[0;34m)\u001b[0m\u001b[0;34m:\u001b[0m\u001b[0;34m\u001b[0m\u001b[0;34m\u001b[0m\u001b[0m\n\u001b[0;32m----> 8\u001b[0;31m             \u001b[0;32mif\u001b[0m \u001b[0mx\u001b[0m \u001b[0;34m%\u001b[0m\u001b[0mi\u001b[0m \u001b[0;34m==\u001b[0m \u001b[0;36m0\u001b[0m\u001b[0;34m:\u001b[0m\u001b[0;34m\u001b[0m\u001b[0;34m\u001b[0m\u001b[0m\n\u001b[0m\u001b[1;32m      9\u001b[0m                 \u001b[0mprime_number\u001b[0m \u001b[0;34m=\u001b[0m \u001b[0;32mFalse\u001b[0m\u001b[0;34m\u001b[0m\u001b[0;34m\u001b[0m\u001b[0m\n\u001b[1;32m     10\u001b[0m \u001b[0;34m\u001b[0m\u001b[0m\n",
      "\u001b[0;31mZeroDivisionError\u001b[0m: integer division or modulo by zero"
     ]
    }
   ],
   "source": [
    "prime_numbers()"
   ]
  },
  {
   "cell_type": "code",
   "execution_count": 35,
   "metadata": {},
   "outputs": [],
   "source": [
    "import math\n",
    "\n",
    "def main():\n",
    "    count = 3\n",
    "    \n",
    "    while True:\n",
    "        isprime = True\n",
    "        \n",
    "        for x in range(2, int(math.sqrt(count) + 1)):\n",
    "            if count % x == 0: \n",
    "                isprime = False\n",
    "                break\n",
    "        \n",
    "        if isprime:\n",
    "            print(count)\n",
    "        \n",
    "        count += 1\n"
   ]
  },
  {
   "cell_type": "code",
   "execution_count": null,
   "metadata": {},
   "outputs": [],
   "source": []
  },
  {
   "cell_type": "code",
   "execution_count": null,
   "metadata": {},
   "outputs": [],
   "source": []
  }
 ],
 "metadata": {
  "kernelspec": {
   "display_name": "Python 3",
   "language": "python",
   "name": "python3"
  },
  "language_info": {
   "codemirror_mode": {
    "name": "ipython",
    "version": 3
   },
   "file_extension": ".py",
   "mimetype": "text/x-python",
   "name": "python",
   "nbconvert_exporter": "python",
   "pygments_lexer": "ipython3",
   "version": "3.8.5"
  }
 },
 "nbformat": 4,
 "nbformat_minor": 4
}
